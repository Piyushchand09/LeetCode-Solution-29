{
 "cells": [
  {
   "cell_type": "code",
   "execution_count": null,
   "id": "41e27f65",
   "metadata": {
    "vscode": {
     "languageId": "plaintext"
    }
   },
   "outputs": [],
   "source": [
    "# 3Sum\n",
    "class Solution:\n",
    "    def threeSum(self, nums: List[int]) -> List[List[int]]:\n",
    "    \n",
    "        nums = sorted(nums)\n",
    "        result = set()\n",
    "        for i in range(len(nums)):\n",
    "            l = i + 1\n",
    "            r = len(nums) - 1\n",
    "            target = 0 - nums[i]\n",
    "            while l < r:\n",
    "                if nums[l] + nums[r] == target:\n",
    "                    result.add((nums[i], nums[l], nums[r]))\n",
    "                    l += 1\n",
    "                    r -= 1\n",
    "                elif nums[l] + nums[r] < target:\n",
    "                    l += 1\n",
    "                else:\n",
    "                    r -= 1\n",
    "        return list(result)"
   ]
  }
 ],
 "metadata": {
  "kernelspec": {
   "display_name": "Python 3 (ipykernel)",
   "language": "python",
   "name": "python3"
  },
  "language_info": {
   "codemirror_mode": {
    "name": "ipython",
    "version": 3
   },
   "file_extension": ".py",
   "mimetype": "text/x-python",
   "name": "python",
   "nbconvert_exporter": "python",
   "pygments_lexer": "ipython3",
   "version": "3.12.4"
  }
 },
 "nbformat": 4,
 "nbformat_minor": 5
}
